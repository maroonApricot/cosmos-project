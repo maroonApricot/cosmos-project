{
 "cells": [
  {
   "cell_type": "markdown",
   "id": "463ae596-b02d-4db9-b0f7-8b86dee517b4",
   "metadata": {},
   "source": [
    "# guys very excited abt this one!!!"
   ]
  },
  {
   "cell_type": "code",
   "execution_count": null,
   "id": "c267ec0b-1707-47a2-b826-e10c9b31a035",
   "metadata": {},
   "outputs": [],
   "source": [
    "import PyWGCNA\n",
    "mirna = PyWGCNA.readWGCNA(\"mirna.p\")\n",
    "mirna.datExpr.var.head(5)"
   ]
  },
  {
   "cell_type": "code",
   "execution_count": null,
   "id": "ed838fdf-c700-4768-9283-b3aa6988b9ea",
   "metadata": {},
   "outputs": [],
   "source": []
  }
 ],
 "metadata": {
  "kernelspec": {
   "display_name": "Python 3 (ipykernel)",
   "language": "python",
   "name": "python3"
  },
  "language_info": {
   "codemirror_mode": {
    "name": "ipython",
    "version": 3
   },
   "file_extension": ".py",
   "mimetype": "text/x-python",
   "name": "python",
   "nbconvert_exporter": "python",
   "pygments_lexer": "ipython3",
   "version": "3.8.0"
  }
 },
 "nbformat": 4,
 "nbformat_minor": 5
}
