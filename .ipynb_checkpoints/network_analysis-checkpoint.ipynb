{
 "cells": [
  {
   "cell_type": "markdown",
   "id": "463ae596-b02d-4db9-b0f7-8b86dee517b4",
   "metadata": {},
   "source": [
    "# guys very excited abt this one!!!"
   ]
  },
  {
   "cell_type": "code",
   "execution_count": 2,
   "id": "c267ec0b-1707-47a2-b826-e10c9b31a035",
   "metadata": {},
   "outputs": [],
   "source": [
    "# import PyWGCNA\n",
    "# mirna = PyWGCNA.readWGCNA(\"mirna.p\")\n",
    "# mirna.datExpr.var.head(5)"
   ]
  },
  {
   "cell_type": "code",
   "execution_count": 3,
   "id": "ed838fdf-c700-4768-9283-b3aa6988b9ea",
   "metadata": {},
   "outputs": [],
   "source": [
    "#mirna.CoexpressionModulePlot(modules=mirna.datExpr.var.moduleColors.unique().tolist(), numGenes=10, numConnections=100, minTOM=0)"
   ]
  },
  {
   "cell_type": "code",
   "execution_count": 9,
   "id": "2502e242-f373-4544-8c12-d981b7abba7f",
   "metadata": {},
   "outputs": [],
   "source": [
    "def CoexpressionModulePlot(self, modules, numGenes=10, numConnections=100, minTOM=0, filters=None, file_name=None):\n",
    "    \"\"\"\n",
    "    plot Coexpression for given module\n",
    "\n",
    "    :param modules: name of modules you like to plot\n",
    "    :type modules: list of str\n",
    "    :param numGenes: number of genes you want to show for each module\n",
    "    :type numGenes: int\n",
    "    :param numConnections: number of connection you want to show for each module\n",
    "    :type numConnections: int\n",
    "    :param minTOM: minimum TOM to keep connections\n",
    "    :type minTOM: float\n",
    "    :param filters: Dictionary which keys are columns names of datExpr.var that you want to filter the genes based on it and values are determining which rows you want to keep\n",
    "    :type filters: dict\n",
    "    :param file_name: name of the html output file (default: module names or network if there is more than 3 modules for input)\n",
    "    :type file_name: str\n",
    "\n",
    "    :return: save a html file with name of modules in figures directory\n",
    "    \"\"\"\n",
    "    if self.signedKME is None:\n",
    "        print(\"signedKME is empty! call signedKME() to calculate it\")\n",
    "\n",
    "    if not os.path.exists(f\"{self.outputPath}figures/network/\"):\n",
    "        print(f\"{WARNING}Network directory does not exist!\\nCreating network directory!{ENDC}\")\n",
    "        os.makedirs(f\"{self.outputPath}figures/network/\")\n",
    "\n",
    "    gene_id = self.datExpr.var.loc[self.datExpr.var.moduleColors.isin(modules), :]\n",
    "    if gene_id.shape[0] == 0:\n",
    "        sys.exit(f\"There is no gene assign to {','.join(modules)} module(s)!\")\n",
    "    if filters is not None:\n",
    "        for key in filters.keys():\n",
    "            gene_id = gene_id.loc[gene_id[key].isin(filters[key]), :]\n",
    "    if gene_id.shape[0] < numGenes:\n",
    "        numGenes = gene_id.shape[0]\n",
    "        numConnections = numGenes * (numGenes - 1)\n",
    "    genes = []\n",
    "    for module in modules:\n",
    "        mat = self.signedKME.loc[gene_id.index].sort_values([\"kME\" + module], ascending=False)\n",
    "        mat = mat.iloc[:numGenes, :]\n",
    "        genes = genes + mat.index.tolist()\n",
    "\n",
    "    adj = self.TOM.loc[genes, genes]\n",
    "    adj[adj < minTOM] = 0\n",
    "    adj = adj.where(np.triu(np.ones(adj.shape)).astype(bool))\n",
    "    adj = adj.where(adj.values != np.diag(adj), 0,\n",
    "                    adj.where(adj.values != np.flipud(adj).diagonal(0), 0, inplace=True))\n",
    "    adj = adj.stack().nlargest(numConnections)\n",
    "\n",
    "    net = Network()\n",
    "    gene_id = list(adj.index.get_level_values(0)) + list(adj.index.get_level_values(1))\n",
    "    gene_id = np.unique(gene_id)\n",
    "    nodes = self.datExpr.var.loc[gene_id, :]\n",
    "    node_color = nodes[\"moduleColors\"].tolist()\n",
    "    nodes.drop([\"dynamicColors\", \"moduleColors\", \"moduleLabels\"], axis=1, inplace=True)\n",
    "    title = nodes.index.tolist()\n",
    "    for i in range(nodes.shape[0]):\n",
    "        for j in range(nodes.shape[1]):\n",
    "            if not pd.isna(nodes.iloc[i, j]):\n",
    "                title[i] = title[i] + \"\\n\" + str(nodes.columns[j]) + \": \" + str(nodes.iloc[i, j])\n",
    "                #print(title[i])\n",
    "\n",
    "    net.add_nodes(nodes.index.tolist(),\n",
    "                  title=title,\n",
    "                  label=nodes[\"gene_name\"].tolist(),\n",
    "                  color=node_color)\n",
    "\n",
    "    for i in range(len(adj)):\n",
    "        if adj[i] != 0:\n",
    "            net.add_edge(adj.index.get_level_values(0)[i],\n",
    "                         adj.index.get_level_values(1)[i],\n",
    "                         weight=adj[i])\n",
    "\n",
    "    if file_name is None:\n",
    "        if len(modules) <= 3:\n",
    "            file_name = '_'.join(modules)\n",
    "        else:\n",
    "            file_name = \"network\"\n",
    "    net.show(f\"{self.outputPath}figures/network/{file_name}.html\", notebook=False)"
   ]
  },
  {
   "cell_type": "code",
   "execution_count": 10,
   "id": "dd463810-4636-4fe0-9fbf-293c07af2e86",
   "metadata": {},
   "outputs": [
    {
     "name": "stdout",
     "output_type": "stream",
     "text": [
      "\u001b[1m\u001b[94mReading mirna WGCNA done!\u001b[0m\n",
      "/data/class/cosmos2023/PUBLIC/shai_hulud/scripts/cosmos-project/figures/network/all.html\n"
     ]
    }
   ],
   "source": [
    "import PyWGCNA\n",
    "import os\n",
    "import numpy as np\n",
    "import pandas as pd\n",
    "from pyvis.network import Network\n",
    "# bcolors\n",
    "WARNING = \"\\033[93m\"\n",
    "ENDC = \"\\033[0m\"\n",
    "\n",
    "pyWGCNA_test = PyWGCNA.readWGCNA(\"mirna.p\")\n",
    "modules = pyWGCNA_test.datExpr.var.moduleColors.unique().tolist()\n",
    "CoexpressionModulePlot(pyWGCNA_test, modules=modules, numGenes=100, numConnections=1000, minTOM=0, filters=None, file_name='all')"
   ]
  },
  {
   "cell_type": "code",
   "execution_count": null,
   "id": "f1469e39-a34d-4857-aa5a-4b81687cc3ae",
   "metadata": {},
   "outputs": [],
   "source": []
  }
 ],
 "metadata": {
  "kernelspec": {
   "display_name": "Python 3 (ipykernel)",
   "language": "python",
   "name": "python3"
  },
  "language_info": {
   "codemirror_mode": {
    "name": "ipython",
    "version": 3
   },
   "file_extension": ".py",
   "mimetype": "text/x-python",
   "name": "python",
   "nbconvert_exporter": "python",
   "pygments_lexer": "ipython3",
   "version": "3.8.0"
  }
 },
 "nbformat": 4,
 "nbformat_minor": 5
}
