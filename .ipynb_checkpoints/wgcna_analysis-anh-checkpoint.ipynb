{
 "cells": [
  {
   "cell_type": "markdown",
   "id": "aa53e2f3-bb61-49c4-af7f-73dd2e70a35c",
   "metadata": {},
   "source": [
    "# Create PyWGCNA object"
   ]
  },
  {
   "cell_type": "code",
   "execution_count": 8,
   "id": "69b1a78f-db5f-4d40-bbd0-04952e7ece58",
   "metadata": {},
   "outputs": [],
   "source": [
    "import PyWGCNA\n",
    "import pandas as pd\n",
    "import numpy as np\n",
    "import random"
   ]
  },
  {
   "cell_type": "code",
   "execution_count": null,
   "id": "880f545f-a587-45d0-a076-9e9bec3ff375",
   "metadata": {},
   "outputs": [],
   "source": [
    "# Read in matrix made from all 48 samples\n",
    "TPM = pd.read_csv(\"/data/class/cosmos2023/PUBLIC/shai_hulud/data/mirna/actual_data/mirna_cpm_matrix.csv\", index_col = 0)\n",
    "TPM['gene_id'] = TPM.index.str.split('.').str[0]\n",
    "\n",
    "# WGCNA requires gene id\n",
    "TPM = TPM.set_index(TPM['gene_id'])\n",
    "\n",
    "# df can only have numbers, no strings\n",
    "TPM.drop([\"gene_id\"], axis = 1, inplace=True)\n",
    "\n",
    "# samples in rows, genes in columns\n",
    "TPM = TPM.T"
   ]
  },
  {
   "cell_type": "code",
   "execution_count": null,
   "id": "f40e333a-ffe1-4f43-8699-b54896e0f432",
   "metadata": {},
   "outputs": [],
   "source": [
    "TPM.head()"
   ]
  },
  {
   "cell_type": "code",
   "execution_count": null,
   "id": "5485e9d3-ddf8-41ad-83fe-90341909c4da",
   "metadata": {},
   "outputs": [],
   "source": [
    "# Read in metadata file; only really care about certain columns for plotting purposes\n",
    "metadata = pd.read_csv(\"/data/class/cosmos2023/PUBLIC/shai_hulud/data/mirna/actual_data/mirna_metadata.csv\",\n",
    "                      usecols=['File.accession', 'Biosample.term.name', 'Age'])\n",
    "\n",
    "metadata['Age'] = metadata['Age'].str.replace('_', ' ') # no underscores\n",
    "\n",
    "# set index to be run name (no underscores)\n",
    "metadata.index = metadata['File.accession']\n",
    "\n",
    "# Replace underscores with spaces in column names\n",
    "metadata.drop([\"File.accession\"], axis = 1, inplace=True)"
   ]
  },
  {
   "cell_type": "code",
   "execution_count": null,
   "id": "aa46989e-b894-4024-90cc-5d3a8fdf876d",
   "metadata": {},
   "outputs": [],
   "source": [
    "metadata.head()"
   ]
  },
  {
   "cell_type": "markdown",
   "id": "4a82bcf5-0528-4216-b729-2b42d2381853",
   "metadata": {},
   "source": [
    "# Make pyWGCNA object"
   ]
  },
  {
   "cell_type": "code",
   "execution_count": null,
   "id": "f5737652-790a-4dac-a518-036c0286a5cb",
   "metadata": {},
   "outputs": [],
   "source": [
    "mirna = PyWGCNA.WGCNA(name='mirna', \n",
    "                        species='Mouse', \n",
    "                        geneExp=TPM, \n",
    "                        save=True)"
   ]
  },
  {
   "cell_type": "markdown",
   "id": "15761c2a-102c-4356-993d-cc9bdcee5c81",
   "metadata": {},
   "source": [
    "# Preprocess including removing outlier genes and samples"
   ]
  },
  {
   "cell_type": "code",
   "execution_count": null,
   "id": "03d490d1-6f34-4452-8f4d-04cbb29bc55f",
   "metadata": {},
   "outputs": [],
   "source": [
    "mirna.preprocess()"
   ]
  },
  {
   "cell_type": "markdown",
   "id": "af90590f-bef6-4c08-8cdd-eac272fc0d21",
   "metadata": {},
   "source": [
    "# Running PyWGCNA and finding modules"
   ]
  },
  {
   "cell_type": "code",
   "execution_count": null,
   "id": "2a508bee-4042-4b15-afd4-da2867fbd49e",
   "metadata": {},
   "outputs": [],
   "source": [
    "## Running PyWGCNA and finding modules\n",
    "mirna.findModules()"
   ]
  },
  {
   "cell_type": "code",
   "execution_count": null,
   "id": "09a56f13-eefe-421e-8e6d-65e6d58fdbd5",
   "metadata": {},
   "outputs": [],
   "source": [
    "mirna.updateSampleInfo(sampleInfo=metadata)\n",
    "# add color for metadata\n",
    "mirna.setMetadataColor('Biosample.term.name', \n",
    "                      {\"C2C12\": \"blue\", \n",
    "                       \"gastrocnemius\": \"green\",\n",
    "                       \"limb\": \"red\",\n",
    "                       \"myotube\" : \"purple\",\n",
    "                       \"skeletal muscle tissue\" : \"yellow\"})\n",
    "mirna.setMetadataColor('Age', \n",
    "                      {'0hr': '#E41A1C',\n",
    "                       '72hr': '#8D4C6A',\n",
    "                       'ED 10.5': '#377EB8',\n",
    "                       'ED 11.5': '#419681',\n",
    "                       'ED 12.5': '#4DAF4A',\n",
    "                       'ED 13.5': '#727E76',\n",
    "                       'ED 14.5': '#984EA3',\n",
    "                       'ED 15.5': '#CB6651',\n",
    "                       'PND 0': '#FF7F00',\n",
    "                       'PND 04': '#FFBF19',\n",
    "                       'PND 10': '#FFFF33',\n",
    "                       'PND 14': '#D2AA2D',\n",
    "                       'PND 25': '#A65628',\n",
    "                       'PND 36': '#CE6B73',\n",
    "                       'PNM 02': '#F781BF',\n",
    "                       'PNM 08': '#C88DAC',\n",
    "                       'PNM 18-20': '#999999'\n",
    "                      })\n",
    "\n",
    "geneList = PyWGCNA.getGeneList(dataset='mmusculus_gene_ensembl',\n",
    "                              attributes=['ensembl_gene_id', \n",
    "                                           'external_gene_name', \n",
    "                                           'gene_biotype'])\n"
   ]
  },
  {
   "cell_type": "markdown",
   "id": "7387dc50-d065-4fc7-8662-3046697b918a",
   "metadata": {},
   "source": [
    "# Analyzing results including plotting module-trait relationship heatmap, eigengene heatmap and barplot, and GO term analysis for each module"
   ]
  },
  {
   "cell_type": "code",
   "execution_count": null,
   "id": "bfac3f38-81c6-4b0c-8c85-5d375861a358",
   "metadata": {},
   "outputs": [],
   "source": [
    "mirna.analyseWGCNA(geneList=geneList)"
   ]
  },
  {
   "cell_type": "markdown",
   "id": "87300af3-2d3b-4b2c-9ca7-4681b6672136",
   "metadata": {},
   "source": [
    "# save PyWGCNA object"
   ]
  },
  {
   "cell_type": "code",
   "execution_count": null,
   "id": "7158f9d2-26a3-40fb-92fe-deebc9f72a5f",
   "metadata": {},
   "outputs": [],
   "source": [
    "mirna.saveWGCNA()"
   ]
  },
  {
   "cell_type": "markdown",
   "id": "e0cbcaa3-245b-4f31-bcb3-efa85d44a439",
   "metadata": {},
   "source": [
    "# Read PyWGCNA object"
   ]
  },
  {
   "cell_type": "code",
   "execution_count": null,
   "id": "1d7e9300-014e-4872-ba36-3800f30f3476",
   "metadata": {},
   "outputs": [],
   "source": [
    "## Read PyWGCNA object\n",
    "import sys\n",
    "import PyWGCNA\n",
    "mirna = PyWGCNA.readWGCNA(\"mirna.p\")"
   ]
  },
  {
   "cell_type": "markdown",
   "id": "80c309cd-6862-4f2b-b07c-4ab5a7b2028f",
   "metadata": {},
   "source": [
    "# How to work with object"
   ]
  },
  {
   "cell_type": "markdown",
   "id": "39b83948-a57f-4218-8597-570ff0afc131",
   "metadata": {},
   "source": [
    "## Extract gene list for each module and save it as a csv file"
   ]
  },
  {
   "cell_type": "code",
   "execution_count": null,
   "id": "5e13f3f2-8191-4980-b983-8e2c2d69447d",
   "metadata": {},
   "outputs": [],
   "source": [
    "# module you're interested in\n",
    "module = \"silver\"\n",
    "geneList = mirna.datExpr.var[mirna.datExpr.var.moduleColors == module]\n",
    "geneList.head()\n",
    "# save gene list as MODULE.csv near object file\n",
    "geneList.to_csv(mirna.outputPath + '/' + module + '.csv')"
   ]
  }
 ],
 "metadata": {
  "kernelspec": {
   "display_name": "Python 3 (ipykernel)",
   "language": "python",
   "name": "python3"
  },
  "language_info": {
   "codemirror_mode": {
    "name": "ipython",
    "version": 3
   },
   "file_extension": ".py",
   "mimetype": "text/x-python",
   "name": "python",
   "nbconvert_exporter": "python",
   "pygments_lexer": "ipython3",
   "version": "3.8.0"
  }
 },
 "nbformat": 4,
 "nbformat_minor": 5
}
