{
 "cells": [
  {
   "cell_type": "code",
   "execution_count": 46,
   "id": "784f5271-f18a-4e20-aac9-6a7bbbb8a521",
   "metadata": {},
   "outputs": [],
   "source": [
    "import pandas as pd\n",
    "import os\n",
    "import glob"
   ]
  },
  {
   "cell_type": "code",
   "execution_count": 47,
   "id": "6812901d-5475-437e-8deb-1ddb0d0446cc",
   "metadata": {},
   "outputs": [],
   "source": [
    "path = os.getcwd()\n",
    "tsv_files = glob.glob(os.path.join(path, \"*.tsv\"))"
   ]
  },
  {
   "cell_type": "code",
   "execution_count": 50,
   "id": "85494024-ec1a-4b21-8a7c-2dd20aba4156",
   "metadata": {},
   "outputs": [],
   "source": [
    "percent_similar = []\n",
    "file_order = []\n",
    "# for f in tsv_files:\n",
    "      \n",
    "#     # read the csv file\n",
    "#     df = pd.read_csv(f, sep=\"\\t\")\n",
    "#     file_order.append(f[86:])\n",
    "      \n",
    "#     count_list.append(df[df[\"DE\"] == \"No\"].count()) \n",
    "    \n",
    "for i in range(len(tsv_files)):\n",
    "    df = pd.read_csv(tsv_files[i], sep=\"\\t\")\n",
    "    file_order.append(tsv_files[i][86:])\n",
    "      \n",
    "    percent_similar.append(df[df[\"DE\"] == \"No\"].count()/df.shape[0]) "
   ]
  },
  {
   "cell_type": "code",
   "execution_count": 51,
   "id": "0f5dbb77-9a7d-46c9-8029-f072964b9284",
   "metadata": {},
   "outputs": [
    {
     "data": {
      "text/plain": [
       "[Unnamed: 0    0.567449\n",
       " gene_name     0.567449\n",
       " DE            0.567449\n",
       " dtype: float64,\n",
       " Unnamed: 0    0.582609\n",
       " gene_name     0.582609\n",
       " DE            0.582609\n",
       " dtype: float64,\n",
       " Unnamed: 0    0.549853\n",
       " gene_name     0.549853\n",
       " DE            0.549853\n",
       " dtype: float64,\n",
       " Unnamed: 0    0.737984\n",
       " gene_name     0.737984\n",
       " DE            0.737984\n",
       " dtype: float64,\n",
       " Unnamed: 0    0.596127\n",
       " gene_name     0.596127\n",
       " DE            0.596127\n",
       " dtype: float64,\n",
       " Unnamed: 0    0.684848\n",
       " gene_name     0.684848\n",
       " DE            0.684848\n",
       " dtype: float64]"
      ]
     },
     "execution_count": 51,
     "metadata": {},
     "output_type": "execute_result"
    }
   ],
   "source": [
    "percent_similar"
   ]
  },
  {
   "cell_type": "code",
   "execution_count": 52,
   "id": "ea8f3243-222f-43a0-90a0-f7c4b97dca2e",
   "metadata": {},
   "outputs": [
    {
     "data": {
      "text/plain": [
       "['MB_ED_mid.tsv',\n",
       " 'MB_ED_late.tsv',\n",
       " 'MT_ED.tsv',\n",
       " 'MT_PND0.tsv',\n",
       " 'MB_ED_early.tsv',\n",
       " 'MB_PND0.tsv']"
      ]
     },
     "execution_count": 52,
     "metadata": {},
     "output_type": "execute_result"
    }
   ],
   "source": [
    "file_order"
   ]
  },
  {
   "cell_type": "code",
   "execution_count": null,
   "id": "2195f37c-4037-4601-b277-3bc836fb6c5a",
   "metadata": {},
   "outputs": [],
   "source": []
  }
 ],
 "metadata": {
  "kernelspec": {
   "display_name": "Python 3 (ipykernel)",
   "language": "python",
   "name": "python3"
  },
  "language_info": {
   "codemirror_mode": {
    "name": "ipython",
    "version": 3
   },
   "file_extension": ".py",
   "mimetype": "text/x-python",
   "name": "python",
   "nbconvert_exporter": "python",
   "pygments_lexer": "ipython3",
   "version": "3.8.0"
  }
 },
 "nbformat": 4,
 "nbformat_minor": 5
}
