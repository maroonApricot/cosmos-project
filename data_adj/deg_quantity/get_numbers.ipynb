{
 "cells": [
  {
   "cell_type": "code",
   "execution_count": 14,
   "id": "784f5271-f18a-4e20-aac9-6a7bbbb8a521",
   "metadata": {},
   "outputs": [],
   "source": [
    "import pandas as pd\n",
    "import os\n",
    "import glob"
   ]
  },
  {
   "cell_type": "code",
   "execution_count": 15,
   "id": "6812901d-5475-437e-8deb-1ddb0d0446cc",
   "metadata": {},
   "outputs": [],
   "source": [
    "path = os.getcwd()\n",
    "tsv_files = glob.glob(os.path.join(path, \"*.tsv\"))"
   ]
  },
  {
   "cell_type": "code",
   "execution_count": 16,
   "id": "69250784-6071-4872-96d4-5f5adaf0e381",
   "metadata": {},
   "outputs": [
    {
     "data": {
      "text/plain": [
       "'/data/class/cosmos2023/PUBLIC/shai_hulud/scripts/cosmos-project/data_adj/deg_quantity'"
      ]
     },
     "execution_count": 16,
     "metadata": {},
     "output_type": "execute_result"
    }
   ],
   "source": [
    "path"
   ]
  },
  {
   "cell_type": "code",
   "execution_count": 17,
   "id": "85494024-ec1a-4b21-8a7c-2dd20aba4156",
   "metadata": {},
   "outputs": [],
   "source": [
    "percent_similar = {}\n",
    "# for f in tsv_files:\n",
    "      \n",
    "#     # read the csv file\n",
    "#     df = pd.read_csv(f, sep=\"\\t\")\n",
    "#     file_order.append(f[86:])\n",
    "      \n",
    "#     count_list.append(df[df[\"DE\"] == \"No\"].count()) \n",
    "    \n",
    "for i in range(len(tsv_files)):\n",
    "    df = pd.read_csv(tsv_files[i], sep=\"\\t\")\n",
    "    #file_order.append(tsv_files[i][86:])\n",
    "    df = df[\"DE\"].values.tolist()\n",
    "    percent_similar.update({ tsv_files[i][86:len(tsv_files[i])-4] : df.count(\"No\")/len(df) }) \n",
    "\n",
    "keyy = list(percent_similar.keys())\n",
    "keyy.sort()\n",
    "percent_similar = {i: percent_similar[i] for i in keyy}"
   ]
  },
  {
   "cell_type": "code",
   "execution_count": 18,
   "id": "0f5dbb77-9a7d-46c9-8029-f072964b9284",
   "metadata": {},
   "outputs": [
    {
     "data": {
      "text/plain": [
       "{'MB_ED_early': 0.5061162079510704,\n",
       " 'MB_PND0': 0.49074074074074076,\n",
       " 'MT_ED': 0.448062015503876,\n",
       " 'MT_PND0': 0.47884940778341795}"
      ]
     },
     "execution_count": 18,
     "metadata": {},
     "output_type": "execute_result"
    }
   ],
   "source": [
    "percent_similar"
   ]
  },
  {
   "cell_type": "code",
   "execution_count": null,
   "id": "2195f37c-4037-4601-b277-3bc836fb6c5a",
   "metadata": {},
   "outputs": [],
   "source": []
  }
 ],
 "metadata": {
  "kernelspec": {
   "display_name": "Python 3 (ipykernel)",
   "language": "python",
   "name": "python3"
  },
  "language_info": {
   "codemirror_mode": {
    "name": "ipython",
    "version": 3
   },
   "file_extension": ".py",
   "mimetype": "text/x-python",
   "name": "python",
   "nbconvert_exporter": "python",
   "pygments_lexer": "ipython3",
   "version": "3.8.0"
  }
 },
 "nbformat": 4,
 "nbformat_minor": 5
}
