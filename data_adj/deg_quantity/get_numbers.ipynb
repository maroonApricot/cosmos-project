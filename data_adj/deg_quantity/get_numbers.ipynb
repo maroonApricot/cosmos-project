{
 "cells": [
  {
   "cell_type": "code",
   "execution_count": 26,
   "id": "784f5271-f18a-4e20-aac9-6a7bbbb8a521",
   "metadata": {},
   "outputs": [],
   "source": [
    "import pandas as pd\n",
    "import os\n",
    "import glob"
   ]
  },
  {
   "cell_type": "code",
   "execution_count": 27,
   "id": "6812901d-5475-437e-8deb-1ddb0d0446cc",
   "metadata": {},
   "outputs": [],
   "source": [
    "path = os.getcwd()\n",
    "tsv_files = glob.glob(os.path.join(path, \"*.tsv\"))"
   ]
  },
  {
   "cell_type": "code",
   "execution_count": 28,
   "id": "85494024-ec1a-4b21-8a7c-2dd20aba4156",
   "metadata": {},
   "outputs": [],
   "source": [
    "percent_similar = {}\n",
    "# for f in tsv_files:\n",
    "      \n",
    "#     # read the csv file\n",
    "#     df = pd.read_csv(f, sep=\"\\t\")\n",
    "#     file_order.append(f[86:])\n",
    "      \n",
    "#     count_list.append(df[df[\"DE\"] == \"No\"].count()) \n",
    "    \n",
    "for i in range(len(tsv_files)):\n",
    "    df = pd.read_csv(tsv_files[i], sep=\"\\t\")\n",
    "    #file_order.append(tsv_files[i][86:])\n",
    "    df = df[\"DE\"].values.tolist()\n",
    "    percent_similar.update({ tsv_files[i][86:len(tsv_files[i])-4] : df.count(\"No\")/len(df) }) \n",
    "\n",
    "keyy = list(percent_similar.keys())\n",
    "keyy.sort()\n",
    "percent_similar = {i: percent_similar[i] for i in keyy}"
   ]
  },
  {
   "cell_type": "code",
   "execution_count": 29,
   "id": "0f5dbb77-9a7d-46c9-8029-f072964b9284",
   "metadata": {},
   "outputs": [
    {
     "data": {
      "text/plain": [
       "{'MB_ED_10.5': 0.6585365853658537,\n",
       " 'MB_ED_11.5': 0.6491994177583698,\n",
       " 'MB_ED_12.5': 0.6804564907275321,\n",
       " 'MB_ED_13.5': 0.6563814866760168,\n",
       " 'MB_ED_14.5': 0.656671664167916,\n",
       " 'MB_ED_15.5': 0.6700879765395894,\n",
       " 'MB_PND0': 0.6848484848484848,\n",
       " 'MT_ED': 0.5498533724340176,\n",
       " 'MT_PND0': 0.737984496124031}"
      ]
     },
     "execution_count": 29,
     "metadata": {},
     "output_type": "execute_result"
    }
   ],
   "source": [
    "percent_similar"
   ]
  },
  {
   "cell_type": "code",
   "execution_count": null,
   "id": "2195f37c-4037-4601-b277-3bc836fb6c5a",
   "metadata": {},
   "outputs": [],
   "source": []
  }
 ],
 "metadata": {
  "kernelspec": {
   "display_name": "Python 3 (ipykernel)",
   "language": "python",
   "name": "python3"
  },
  "language_info": {
   "codemirror_mode": {
    "name": "ipython",
    "version": 3
   },
   "file_extension": ".py",
   "mimetype": "text/x-python",
   "name": "python",
   "nbconvert_exporter": "python",
   "pygments_lexer": "ipython3",
   "version": "3.8.0"
  }
 },
 "nbformat": 4,
 "nbformat_minor": 5
}
