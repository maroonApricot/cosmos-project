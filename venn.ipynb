{
 "cells": [
  {
   "cell_type": "code",
   "execution_count": 87,
   "id": "8e8ab439",
   "metadata": {},
   "outputs": [],
   "source": [
    "import pandas as pd\n",
    "import matplotlib.pyplot as plt\n",
    "from matplotlib_venn import venn2\n",
    "import numpy as np"
   ]
  },
  {
   "cell_type": "code",
   "execution_count": 80,
   "id": "1ceff0ee",
   "metadata": {},
   "outputs": [],
   "source": [
    "df_1 =  pd.read_csv(\"data_adj/degs_c2c12.tsv\", sep=\"\\t\")\n",
    "df_2 =  pd.read_csv(\"data_adj/degs_sm.tsv\", sep=\"\\t\")"
   ]
  },
  {
   "cell_type": "code",
   "execution_count": 81,
   "id": "be18da73",
   "metadata": {},
   "outputs": [],
   "source": [
    "c0 = df_1.loc[df_1[\"DE\"] == \"Up\"]\n",
    "c72 = df_1.loc[df_1[\"DE\"] == \"Down\"]\n",
    "smED = df_2.loc[df_2[\"DE\"] == \"Up\"]\n",
    "smPND0 = df_2.loc[df_2[\"DE\"] == \"Down\"]"
   ]
  },
  {
   "cell_type": "code",
   "execution_count": 82,
   "id": "a20b5113",
   "metadata": {},
   "outputs": [],
   "source": [
    "#idk how to do this in a loop rip how to pass by reference\n",
    "c0 = set(c0[\"gene_name\"].values.tolist())\n",
    "c72 = set(c72[\"gene_name\"].values.tolist())\n",
    "smED = set(smED[\"gene_name\"].values.tolist())\n",
    "smPND0 = set(smPND0[\"gene_name\"].values.tolist())"
   ]
  },
  {
   "cell_type": "code",
   "execution_count": 86,
   "id": "2207c14e",
   "metadata": {},
   "outputs": [
    {
     "data": {
      "image/png": "[encoded data removed]",
      "text/plain": [
       "<Figure size 432x288 with 1 Axes>"
      ]
     },
     "metadata": {},
     "output_type": "display_data"
    },
    {
     "data": {
      "image/png": "[encoded data removed]",
      "text/plain": [
       "<Figure size 432x288 with 1 Axes>"
      ]
     },
     "metadata": {},
     "output_type": "display_data"
    }
   ],
   "source": [
    "venn2([c0, smED], ('C2C12_0hr', 'Skeletal_Muscle_ED'), set_colors=(\"pink\",\"blue\"))\n",
    "plt.savefig('plots/vennMB.png')\n",
    "plt.show()\n",
    "venn2([c72, smPND0], ('C2C12_72hr', 'Skeletal_Muscle_PND0'), set_colors=(\"pink\",\"blue\"))\n",
    "plt.savefig('plots/vennMT.png')\n",
    "plt.show()"
   ]
  },
  {
   "cell_type": "code",
   "execution_count": 65,
   "id": "d90e8c7c",
   "metadata": {},
   "outputs": [
    {
     "name": "stdout",
     "output_type": "stream",
     "text": [
      "{'Mir148a', 'Mir669l', 'Mir7-1', 'Mir6399', 'Mir466n', 'Mir92b', 'Mir3066', 'Mir449a', 'Mir224', 'Mir155', 'Mir222', 'Mirlet7f-2', 'Mir1191', 'Mir669h', 'Mir344d-3', 'Mir10b', 'Mir763', 'Mir127', 'Mir98', 'Mir743b', 'Mir199a-2', 'Mir29b-1', 'Mir5622', 'Mir297a-2', 'Mir221', 'mmu-mir-7650', 'Mir669o', 'Mir20a', 'Mir7-2'}\n",
      "{'Mir532', 'Mir1a-1', 'Mir208b', 'Mir491', 'Mir328', 'Mir362', 'Mir351', 'Mir7052', 'Mir206', 'Mir128-1', 'Mir139', 'Mir1963', 'Mir5126', 'Mir499', 'Mir8094', 'Mir6240', 'Mir133b', 'Mir208a', 'Mir6538', 'Mir500', 'Mir3100', 'Mir6923', 'Mir6916', 'Mir503', 'Mir335', 'Mir6929', 'Mir128-2', 'Mir7685', 'Mir483', 'Mir450-2', 'Mir1968', 'Mir378c', 'Mir1956', 'Mir675', 'Mir133a-1', 'Mir7689', 'Mir6954', 'Mir3099', 'Mir501', 'Mir7240', 'Mir378d', 'Mir7211', 'Mir5114', 'Mir378b', 'Mir210', 'Mir455'}\n",
      "{'Mir1945', 'Mir2137', 'Mir6399', 'Mir599', 'Mir384', 'Mir301b', 'Mir130b', 'Mir200b', 'Mir5128', 'Mir92b', 'Mir302b', 'Mir702', 'Mir196b', 'Mir5126', 'Mir135b', 'Mir200a', 'Mir291a', 'Mir7655', 'Mir429', 'Mir6240', 'Mir291b', 'Mir294', 'Mir19b-1', 'Mir155', 'Mir92-2', 'Mir19a', 'Mir3080', 'Mir7663', 'Mir17', 'Mir106b', 'Mir7654', 'Mir6539', 'Mir375', 'Mir3095', 'Mir6538', 'Mir363', 'Mir19b-2', 'Mir6546', 'Mir293', 'Mir295', 'Mir181d', 'Mir18b', 'Mir3067', 'Mir1983', 'Mir6540', 'Mir741', 'Mir669h', 'Mir183', 'Mir760', 'Mir302d', 'Mir34c', 'Mir181b-2', 'Mir10b', 'Mir182', 'Mir7026', 'Mir10a', 'Mir106a', 'Mir93', 'Mir92-1', 'Mir96', 'Mir302c', 'Mir6236', 'Mir1947', 'Mir325', 'Mir3086', 'Mir181b-1', 'Mir141', 'Mir34b', 'Mir20b', 'Mir211', 'Mir505', 'Mir18', 'Mir302a', 'Mir20a', 'Mir7-2', 'Mir3081'}\n",
      "{'Mir208b', 'Mir493', 'Mir206', 'Mirlet7c-1', 'Mir3109', 'Mir377', 'Mir544', 'Mir3100', 'Mirlet7f-2', 'Mir146', 'Mir3070a', 'Mir667', 'Mir341', 'Mir7007', 'Mir29b-1', 'Mir204', 'Mir379', 'Mir27a', 'Mir122', 'Mir7j', 'Mir376c', 'Mir532', 'Mir381', 'Mir1a-1', 'Mir540', 'Mirlet7c-2', 'Mir6516', 'Mir328', 'Mir128-1', 'Mir499', 'Mirlet7g', 'Mir344g', 'Mir664', 'Mir132', 'Mir485', 'Mir500', 'Mir369', 'Mir144', 'Mir1843a', 'Mir411', 'Mir410', 'Mir450-2', 'Mirlet7i', 'Mir193a', 'Mir133a-1', 'Mir329', 'Mir378d', 'Mir378b', 'Mir673', 'Mir1839', 'Mir542', 'Mir23a', 'Mir143', 'Mir351', 'Mir139', 'Mirlet7d', 'Mir3970', 'Mir490', 'Mir376b', 'Mir668', 'Mir434', 'Mir489', 'Mir22', 'Mir653', 'Mir150', 'Mir665', 'Mirlet7a-2', 'Mir547', 'Mir1188', 'Mir127', 'Mir134', 'Mir378c', 'Mir1843b', 'Mir365-2', 'Mir770', 'Mir496a', 'Mir154', 'Mir382', 'Mir152', 'Mir433', 'Mir3068', 'Mir666', 'Mir487b', 'Mir511', 'Mir495', 'Mir133b', 'Mirlet7a-1', 'Mir6945', 'Mir6923', 'Mir128-2', 'Mir145a', 'Mir98', 'Mir574', 'Mir412', 'Mir543', 'Mir7689', 'Mir29a', 'Mir431', 'Mir300', 'Mir34a', 'Mirlet7b', 'Mir337'}\n"
     ]
    }
   ],
   "source": [
    "print(c0)\n",
    "print(c72)\n",
    "print(smED)\n",
    "print(smPND0)"
   ]
  },
  {
   "cell_type": "code",
   "execution_count": 67,
   "id": "72dd6e3f",
   "metadata": {},
   "outputs": [
    {
     "data": {
      "text/plain": [
       "<Figure size 432x288 with 0 Axes>"
      ]
     },
     "metadata": {},
     "output_type": "display_data"
    }
   ],
   "source": []
  },
  {
   "cell_type": "code",
   "execution_count": null,
   "id": "e81366c0",
   "metadata": {},
   "outputs": [],
   "source": []
  }
 ],
 "metadata": {
  "kernelspec": {
   "display_name": "Python 3 (ipykernel)",
   "language": "python",
   "name": "python3"
  },
  "language_info": {
   "codemirror_mode": {
    "name": "ipython",
    "version": 3
   },
   "file_extension": ".py",
   "mimetype": "text/x-python",
   "name": "python",
   "nbconvert_exporter": "python",
   "pygments_lexer": "ipython3",
   "version": "3.8.0"
  }
 },
 "nbformat": 4,
 "nbformat_minor": 5
}
