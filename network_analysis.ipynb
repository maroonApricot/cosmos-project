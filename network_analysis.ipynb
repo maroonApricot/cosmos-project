{
 "cells": [
  {
   "cell_type": "markdown",
   "id": "463ae596-b02d-4db9-b0f7-8b86dee517b4",
   "metadata": {},
   "source": [
    "# guys very excited abt this one!!!"
   ]
  },
  {
   "cell_type": "code",
   "execution_count": 4,
   "id": "c267ec0b-1707-47a2-b826-e10c9b31a035",
   "metadata": {},
   "outputs": [
    {
     "name": "stdout",
     "output_type": "stream",
     "text": [
      "\u001b[1m\u001b[94mReading mirna WGCNA done!\u001b[0m\n"
     ]
    },
    {
     "data": {
      "text/html": [
       "<div>\n",
       "<style scoped>\n",
       "    .dataframe tbody tr th:only-of-type {\n",
       "        vertical-align: middle;\n",
       "    }\n",
       "\n",
       "    .dataframe tbody tr th {\n",
       "        vertical-align: top;\n",
       "    }\n",
       "\n",
       "    .dataframe thead th {\n",
       "        text-align: right;\n",
       "    }\n",
       "</style>\n",
       "<table border=\"1\" class=\"dataframe\">\n",
       "  <thead>\n",
       "    <tr style=\"text-align: right;\">\n",
       "      <th></th>\n",
       "      <th>dynamicColors</th>\n",
       "      <th>moduleColors</th>\n",
       "      <th>moduleLabels</th>\n",
       "      <th>gene_name</th>\n",
       "      <th>go_id</th>\n",
       "    </tr>\n",
       "    <tr>\n",
       "      <th>gene_id</th>\n",
       "      <th></th>\n",
       "      <th></th>\n",
       "      <th></th>\n",
       "      <th></th>\n",
       "      <th></th>\n",
       "    </tr>\n",
       "  </thead>\n",
       "  <tbody>\n",
       "    <tr>\n",
       "      <th>ENSMUSG00000099183</th>\n",
       "      <td>dimgrey</td>\n",
       "      <td>dimgrey</td>\n",
       "      <td>2.0</td>\n",
       "      <td>NaN</td>\n",
       "      <td>NaN</td>\n",
       "    </tr>\n",
       "    <tr>\n",
       "      <th>ENSMUSG00000065559</th>\n",
       "      <td>darkgrey</td>\n",
       "      <td>darkgrey</td>\n",
       "      <td>1.0</td>\n",
       "      <td>Mir206</td>\n",
       "      <td>miRNA</td>\n",
       "    </tr>\n",
       "    <tr>\n",
       "      <th>ENSMUSG00000065480</th>\n",
       "      <td>darkgrey</td>\n",
       "      <td>darkgrey</td>\n",
       "      <td>1.0</td>\n",
       "      <td>Mir133b</td>\n",
       "      <td>miRNA</td>\n",
       "    </tr>\n",
       "    <tr>\n",
       "      <th>ENSMUSG00000065405</th>\n",
       "      <td>dimgrey</td>\n",
       "      <td>dimgrey</td>\n",
       "      <td>2.0</td>\n",
       "      <td>Mir30a</td>\n",
       "      <td>miRNA</td>\n",
       "    </tr>\n",
       "    <tr>\n",
       "      <th>ENSMUSG00000065567</th>\n",
       "      <td>dimgrey</td>\n",
       "      <td>dimgrey</td>\n",
       "      <td>2.0</td>\n",
       "      <td>Mir30c-2</td>\n",
       "      <td>miRNA</td>\n",
       "    </tr>\n",
       "  </tbody>\n",
       "</table>\n",
       "</div>"
      ],
      "text/plain": [
       "                   dynamicColors moduleColors  moduleLabels gene_name  go_id\n",
       "gene_id                                                                     \n",
       "ENSMUSG00000099183       dimgrey      dimgrey           2.0       NaN    NaN\n",
       "ENSMUSG00000065559      darkgrey     darkgrey           1.0    Mir206  miRNA\n",
       "ENSMUSG00000065480      darkgrey     darkgrey           1.0   Mir133b  miRNA\n",
       "ENSMUSG00000065405       dimgrey      dimgrey           2.0    Mir30a  miRNA\n",
       "ENSMUSG00000065567       dimgrey      dimgrey           2.0  Mir30c-2  miRNA"
      ]
     },
     "execution_count": 4,
     "metadata": {},
     "output_type": "execute_result"
    }
   ],
   "source": [
    "import PyWGCNA\n",
    "mirna = PyWGCNA.readWGCNA(\"mirna.p\")\n",
    "mirna.datExpr.var.head(5)"
   ]
  },
  {
   "cell_type": "code",
   "execution_count": 6,
   "id": "ed838fdf-c700-4768-9283-b3aa6988b9ea",
   "metadata": {},
   "outputs": [
    {
     "ename": "AttributeError",
     "evalue": "module 'numpy' has no attribute 'bool'.\n`np.bool` was a deprecated alias for the builtin `bool`. To avoid this error in existing code, use `bool` by itself. Doing this will not modify any behavior and is safe. If you specifically wanted the numpy scalar type, use `np.bool_` here.\nThe aliases was originally deprecated in NumPy 1.20; for more details and guidance see the original release note at:\n    https://numpy.org/devdocs/release/1.20.0-notes.html#deprecations",
     "output_type": "error",
     "traceback": [
      "\u001b[0;31m---------------------------------------------------------------------------\u001b[0m",
      "\u001b[0;31mAttributeError\u001b[0m                            Traceback (most recent call last)",
      "Input \u001b[0;32mIn [6]\u001b[0m, in \u001b[0;36m<cell line: 1>\u001b[0;34m()\u001b[0m\n\u001b[0;32m----> 1\u001b[0m \u001b[43mmirna\u001b[49m\u001b[38;5;241;43m.\u001b[39;49m\u001b[43mCoexpressionModulePlot\u001b[49m\u001b[43m(\u001b[49m\u001b[43mmodules\u001b[49m\u001b[38;5;241;43m=\u001b[39;49m\u001b[43mmirna\u001b[49m\u001b[38;5;241;43m.\u001b[39;49m\u001b[43mdatExpr\u001b[49m\u001b[38;5;241;43m.\u001b[39;49m\u001b[43mvar\u001b[49m\u001b[38;5;241;43m.\u001b[39;49m\u001b[43mmoduleColors\u001b[49m\u001b[38;5;241;43m.\u001b[39;49m\u001b[43munique\u001b[49m\u001b[43m(\u001b[49m\u001b[43m)\u001b[49m\u001b[38;5;241;43m.\u001b[39;49m\u001b[43mtolist\u001b[49m\u001b[43m(\u001b[49m\u001b[43m)\u001b[49m\u001b[43m,\u001b[49m\u001b[43m \u001b[49m\u001b[43mnumGenes\u001b[49m\u001b[38;5;241;43m=\u001b[39;49m\u001b[38;5;241;43m10\u001b[39;49m\u001b[43m,\u001b[49m\u001b[43m \u001b[49m\u001b[43mnumConnections\u001b[49m\u001b[38;5;241;43m=\u001b[39;49m\u001b[38;5;241;43m100\u001b[39;49m\u001b[43m,\u001b[49m\u001b[43m \u001b[49m\u001b[43mminTOM\u001b[49m\u001b[38;5;241;43m=\u001b[39;49m\u001b[38;5;241;43m0\u001b[39;49m\u001b[43m)\u001b[49m\n",
      "File \u001b[0;32m/opt/apps/python/3.8.0/lib/python3.8/site-packages/PyWGCNA/wgcna.py:3358\u001b[0m, in \u001b[0;36mWGCNA.CoexpressionModulePlot\u001b[0;34m(self, modules, numGenes, numConnections, minTOM, filters, file_name)\u001b[0m\n\u001b[1;32m   3356\u001b[0m adj \u001b[38;5;241m=\u001b[39m \u001b[38;5;28mself\u001b[39m\u001b[38;5;241m.\u001b[39mTOM\u001b[38;5;241m.\u001b[39mloc[genes, genes]\n\u001b[1;32m   3357\u001b[0m adj[adj \u001b[38;5;241m<\u001b[39m minTOM] \u001b[38;5;241m=\u001b[39m \u001b[38;5;241m0\u001b[39m\n\u001b[0;32m-> 3358\u001b[0m adj \u001b[38;5;241m=\u001b[39m adj\u001b[38;5;241m.\u001b[39mwhere(np\u001b[38;5;241m.\u001b[39mtriu(np\u001b[38;5;241m.\u001b[39mones(adj\u001b[38;5;241m.\u001b[39mshape))\u001b[38;5;241m.\u001b[39mastype(\u001b[43mnp\u001b[49m\u001b[38;5;241;43m.\u001b[39;49m\u001b[43mbool\u001b[49m))\n\u001b[1;32m   3359\u001b[0m adj \u001b[38;5;241m=\u001b[39m adj\u001b[38;5;241m.\u001b[39mwhere(adj\u001b[38;5;241m.\u001b[39mvalues \u001b[38;5;241m!=\u001b[39m np\u001b[38;5;241m.\u001b[39mdiag(adj), \u001b[38;5;241m0\u001b[39m,\n\u001b[1;32m   3360\u001b[0m                 adj\u001b[38;5;241m.\u001b[39mwhere(adj\u001b[38;5;241m.\u001b[39mvalues \u001b[38;5;241m!=\u001b[39m np\u001b[38;5;241m.\u001b[39mflipud(adj)\u001b[38;5;241m.\u001b[39mdiagonal(\u001b[38;5;241m0\u001b[39m), \u001b[38;5;241m0\u001b[39m, inplace\u001b[38;5;241m=\u001b[39m\u001b[38;5;28;01mTrue\u001b[39;00m))\n\u001b[1;32m   3361\u001b[0m adj \u001b[38;5;241m=\u001b[39m adj\u001b[38;5;241m.\u001b[39mstack()\u001b[38;5;241m.\u001b[39mnlargest(numConnections)\n",
      "File \u001b[0;32m/opt/apps/python/3.8.0/lib/python3.8/site-packages/numpy/__init__.py:305\u001b[0m, in \u001b[0;36m__getattr__\u001b[0;34m(attr)\u001b[0m\n\u001b[1;32m    300\u001b[0m     warnings\u001b[38;5;241m.\u001b[39mwarn(\n\u001b[1;32m    301\u001b[0m         \u001b[38;5;124mf\u001b[39m\u001b[38;5;124m\"\u001b[39m\u001b[38;5;124mIn the future `np.\u001b[39m\u001b[38;5;132;01m{\u001b[39;00mattr\u001b[38;5;132;01m}\u001b[39;00m\u001b[38;5;124m` will be defined as the \u001b[39m\u001b[38;5;124m\"\u001b[39m\n\u001b[1;32m    302\u001b[0m         \u001b[38;5;124m\"\u001b[39m\u001b[38;5;124mcorresponding NumPy scalar.\u001b[39m\u001b[38;5;124m\"\u001b[39m, \u001b[38;5;167;01mFutureWarning\u001b[39;00m, stacklevel\u001b[38;5;241m=\u001b[39m\u001b[38;5;241m2\u001b[39m)\n\u001b[1;32m    304\u001b[0m \u001b[38;5;28;01mif\u001b[39;00m attr \u001b[38;5;129;01min\u001b[39;00m __former_attrs__:\n\u001b[0;32m--> 305\u001b[0m     \u001b[38;5;28;01mraise\u001b[39;00m \u001b[38;5;167;01mAttributeError\u001b[39;00m(__former_attrs__[attr])\n\u001b[1;32m    307\u001b[0m \u001b[38;5;66;03m# Importing Tester requires importing all of UnitTest which is not a\u001b[39;00m\n\u001b[1;32m    308\u001b[0m \u001b[38;5;66;03m# cheap import Since it is mainly used in test suits, we lazy import it\u001b[39;00m\n\u001b[1;32m    309\u001b[0m \u001b[38;5;66;03m# here to save on the order of 10 ms of import time for most users\u001b[39;00m\n\u001b[1;32m    310\u001b[0m \u001b[38;5;66;03m#\u001b[39;00m\n\u001b[1;32m    311\u001b[0m \u001b[38;5;66;03m# The previous way Tester was imported also had a side effect of adding\u001b[39;00m\n\u001b[1;32m    312\u001b[0m \u001b[38;5;66;03m# the full `numpy.testing` namespace\u001b[39;00m\n\u001b[1;32m    313\u001b[0m \u001b[38;5;28;01mif\u001b[39;00m attr \u001b[38;5;241m==\u001b[39m \u001b[38;5;124m'\u001b[39m\u001b[38;5;124mtesting\u001b[39m\u001b[38;5;124m'\u001b[39m:\n",
      "\u001b[0;31mAttributeError\u001b[0m: module 'numpy' has no attribute 'bool'.\n`np.bool` was a deprecated alias for the builtin `bool`. To avoid this error in existing code, use `bool` by itself. Doing this will not modify any behavior and is safe. If you specifically wanted the numpy scalar type, use `np.bool_` here.\nThe aliases was originally deprecated in NumPy 1.20; for more details and guidance see the original release note at:\n    https://numpy.org/devdocs/release/1.20.0-notes.html#deprecations"
     ]
    }
   ],
   "source": [
    "mirna.CoexpressionModulePlot(modules=mirna.datExpr.var.moduleColors.unique().tolist(), numGenes=10, numConnections=100, minTOM=0)"
   ]
  },
  {
   "cell_type": "code",
   "execution_count": null,
   "id": "2502e242-f373-4544-8c12-d981b7abba7f",
   "metadata": {},
   "outputs": [],
   "source": []
  }
 ],
 "metadata": {
  "kernelspec": {
   "display_name": "Python 3 (ipykernel)",
   "language": "python",
   "name": "python3"
  },
  "language_info": {
   "codemirror_mode": {
    "name": "ipython",
    "version": 3
   },
   "file_extension": ".py",
   "mimetype": "text/x-python",
   "name": "python",
   "nbconvert_exporter": "python",
   "pygments_lexer": "ipython3",
   "version": "3.8.0"
  }
 },
 "nbformat": 4,
 "nbformat_minor": 5
}
